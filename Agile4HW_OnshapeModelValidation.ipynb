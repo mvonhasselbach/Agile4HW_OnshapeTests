{
  "nbformat": 4,
  "nbformat_minor": 0,
  "metadata": {
    "colab": {
      "name": "Agile4HW-OnshapeModelValidation.ipynb",
      "provenance": [],
      "collapsed_sections": []
    },
    "kernelspec": {
      "name": "python3",
      "display_name": "Python 3"
    },
    "language_info": {
      "name": "python"
    }
  },
  "cells": [
    {
      "cell_type": "markdown",
      "metadata": {
        "id": "RrHuvc1KTtKt"
      },
      "source": [
        "# Setup\n",
        "1. If you are scripting within an enterprise, replace the base URL with your enterprise's URL. For example, https://ptc.onshape.com if within the PTC enterprise. Note the omitted / on the end!\n",
        "1. Create a file colabkeys.py in a text editor on your computer.\n",
        "1. Get an access and secret key pair from https://dev-portal.onshape.com/.\n",
        "1. Format the file to match this example, but with your own access and secret keys\\*:\n",
        "```\n",
        "access = 'Z97asb1257FkEwzp3EmCpa'\n",
        "secret = 'nHwN3q7asdvg4aryFC9rxYyo9U4o415WokYa8VOQ9YfUh4Zx'\n",
        "```\n",
        "1. Upload this file to the root directory of your Google Drive's My Drive section.\n",
        "1. Ensure `colab_keys_path` in the section below is `colabkeys.py` for this location and file name. If your file is named differently or in a different location in your Google Drive, modify the `colab_keys_path` field.\n",
        "1. Run the cell. If you get warnings about the Drive already being mounted or a client already existing, these are expected if you have previously run this setup script in this session.\n",
        "\n",
        "\\* Note: These are fake keys for demonstration purposes."
      ]
    },
    {
      "cell_type": "code",
      "metadata": {
        "id": "2Za4TKS2LjTR",
        "cellView": "form",
        "outputId": "b6826468-7544-42c3-eb04-f567d9a45068",
        "colab": {
          "base_uri": "https://localhost:8080/"
        }
      },
      "source": [
        "#@title **Client parameters - Run Each Time You Open Colab**\n",
        "\n",
        "#@markdown Onshape base URL. Change this if in an enterprise (e.g. https://ptc.onshape.com)\n",
        "base = 'https://liveworx20.onshape.com' #@param {type: \"string\"}\n",
        "\n",
        "#@markdown Onshape API key python file path/name relative to My Drive root\n",
        "#@markdown directory in Google Drive.\n",
        "\n",
        "colab_keys_path = 'colabkeys.py' #@param {type: \"string\"}\n",
        "colab_keys_path = '/content/drive/MyDrive/' + colab_keys_path\n",
        "\n",
        "# install onshape python client\n",
        "import sys, os\n",
        "print('Installing onshape python client...')\n",
        "with open(os.devnull, 'w') as devnull:\n",
        "    old_stdout = sys.stdout\n",
        "    sys.stdout = devnull\n",
        "    !pip install onshape-client\n",
        "    sys.stdout = old_stdout\n",
        "\n",
        "# import onshape python client and json library\n",
        "from onshape_client.client import Client\n",
        "import json\n",
        "\n",
        "# mount Google Drive for API key and data access\n",
        "from google.colab import drive\n",
        "print('Mounting Google Drive...', end='\\n\\n')\n",
        "drive.mount('/content/drive')\n",
        "\n",
        "# load API keys from file colabkeys.py in root directory of my drive\n",
        "print()\n",
        "if os.path.exists(colab_keys_path): \n",
        "    print(colab_keys_path + ' exists in My Drive; loading keys...')\n",
        "    execfile(colab_keys_path)\n",
        "else:\n",
        "    print(colab_keys_path + ' does not exist in My Drive root directory.')\n",
        "print()\n",
        "\n",
        "# create onshape client from base URL and keys\n",
        "print('Constructing Onshape client from base URL ', base, ' and key file ', colab_keys_path, '...', sep='', end='\\n\\n')\n",
        "client = Client(configuration={\"base_url\": base,\n",
        "                               \"access_key\": access,\n",
        "                               \"secret_key\": secret})\n",
        "# a delay is required since the client constructor sends out its ready message asynchronously\n",
        "import time\n",
        "time.sleep(0.5)\n",
        "print('\\nSetup done.')\n"
      ],
      "execution_count": null,
      "outputs": [
        {
          "output_type": "stream",
          "name": "stdout",
          "text": [
            "Installing onshape python client...\n",
            "Mounting Google Drive...\n",
            "\n",
            "Mounted at /content/drive\n",
            "\n",
            "/content/drive/MyDrive/colabkeys.py exists in My Drive; loading keys...\n",
            "\n",
            "Constructing Onshape client from base URL https://liveworx20.onshape.com and key file /content/drive/MyDrive/colabkeys.py...\n",
            "\n",
            "\n",
            "Setup done.\n"
          ]
        }
      ]
    },
    {
      "cell_type": "markdown",
      "metadata": {
        "id": "EGSkvdixXDC4"
      },
      "source": [
        "# Your Code\n",
        "\n",
        "**Make sure you run the setup cell found above at least once before you run your own code for every Colab session.** Otherwise, you will run into authentication and missing dependency errors.\n",
        "\n",
        "You can add cells by hovering with your mouse near the center of the gap between cells (or at the very bottom of the last cell) and selecting either Code or Text for the type of the new cell."
      ]
    },
    {
      "cell_type": "markdown",
      "source": [
        "# Validate Balance\n",
        "\n",
        "The balance is ok if the centerpoint of the boundingbox of the assembly is close to the center of gravity. \n",
        "\n",
        "Close means that the **distance is < 0.05m**.\n"
      ],
      "metadata": {
        "id": "Xz_0Xkep6LKL"
      }
    },
    {
      "cell_type": "code",
      "source": [
        "#@title Calculated Distance { vertical-output: true }\n",
        "import json\n",
        "import math\n",
        "from IPython.display import display, Markdown\n",
        "\n",
        "expectedMaxDistance = 0.05\n",
        "\n",
        "# get boundigbox centerpoint first\n",
        "fixed_url = '/api/v4/assemblies/d/did/w/wid/e/eid/boundingboxes'\n",
        "\n",
        "# https://liveworx20.onshape.com/api/v4/assemblies/d/62133c27fba736a62fced394/w/a68f6e8a29cc1bf010fa71d5/e/0124d5a6da75c7ab8de75c57/boundingboxes?includeHidden=false&includeSketches=false\n",
        "did = '62133c27fba736a62fced394'\n",
        "wid = 'a68f6e8a29cc1bf010fa71d5'\n",
        "eid = '0124d5a6da75c7ab8de75c57'\n",
        "\n",
        "method = 'GET'\n",
        "\n",
        "params = {\n",
        "    \"includeHidden\": False,\n",
        "    \"includeSketches\": False\n",
        "}\n",
        "\n",
        "headers = {'Accept': 'application/vnd.onshape.v1+json; charset=UTF-8;qs=0.1',\n",
        "           'Content-Type': 'application/json'}\n",
        "\n",
        "fixed_url = fixed_url.replace('did', did)\n",
        "fixed_url = fixed_url.replace('wid', wid)\n",
        "fixed_url = fixed_url.replace('eid', eid)\n",
        "\n",
        "response = client.api_client.request(method, url=base + fixed_url, query_params=params, headers=headers, body={})\n",
        "bbox = json.loads(response.data)\n",
        "centerpoint = [\n",
        "    (bbox[\"lowX\"]+bbox[\"highX\"])/2, \n",
        "    (bbox[\"lowY\"]+bbox[\"highY\"])/2, \n",
        "    (bbox[\"lowZ\"]+bbox[\"highZ\"])/2\n",
        "]\n",
        "\n",
        "# get center of gravity next\n",
        "fixed_url = '/api/v4/assemblies/d/did/w/wid/e/eid/massproperties'\n",
        "params = {}\n",
        "fixed_url = fixed_url.replace('did', did)\n",
        "fixed_url = fixed_url.replace('wid', wid)\n",
        "fixed_url = fixed_url.replace('eid', eid)\n",
        "\n",
        "response = client.api_client.request(method, url=base + fixed_url, query_params=params, headers=headers, body={})\n",
        "massprops = json.loads(response.data)\n",
        "\n",
        "pointDistance = math.sqrt( (centerpoint[0]-massprops[\"centroid\"][0])**2 + \n",
        "                           (centerpoint[1]-massprops[\"centroid\"][1])**2 + \n",
        "                           (centerpoint[2]-massprops[\"centroid\"][2])**2\n",
        "                          )\n",
        "testPassed = pointDistance < expectedMaxDistance\n",
        "\n",
        "\n",
        "\n",
        "\n",
        "# rendering of results from here on\n",
        "display(Markdown(\"### **Overall Mass of the assembly**: {:.2f} kg ###\".format(massprops[\"mass\"][0])))\n",
        "if(testPassed):\n",
        "   result = \"Test Passed\"\n",
        "   image = \"https://pbs.twimg.com/profile_images/1398006785298944000/pH1w1bvv_400x400.png\"\n",
        "else:\n",
        "   result = \"Test Failed\"\n",
        "   image = \"https://backgroundlabs.com/files/failed-background-2940.png\"\n",
        "\n",
        "display(Markdown(\"### {}\".format(result)))\n",
        "display(Markdown(\"![figure]({})\".format(image)))\n",
        "display(Markdown(\"**BBox Centerpoint to Center of Gravity Distance:** {:.4f}\".format(pointDistance)))\n",
        "\n"
      ],
      "metadata": {
        "id": "pdbQh_sN6amY",
        "outputId": "7dbbb42b-ce67-4b8e-b101-cd527bac8986",
        "colab": {
          "base_uri": "https://localhost:8080/",
          "height": 530
        }
      },
      "execution_count": null,
      "outputs": [
        {
          "output_type": "display_data",
          "data": {
            "text/plain": [
              "<IPython.core.display.Markdown object>"
            ],
            "text/markdown": "### **Overall Mass of the assembly**: 0.75 kg ###"
          },
          "metadata": {}
        },
        {
          "output_type": "display_data",
          "data": {
            "text/plain": [
              "<IPython.core.display.Markdown object>"
            ],
            "text/markdown": "### Test Passed"
          },
          "metadata": {}
        },
        {
          "output_type": "display_data",
          "data": {
            "text/plain": [
              "<IPython.core.display.Markdown object>"
            ],
            "text/markdown": "![figure](https://pbs.twimg.com/profile_images/1398006785298944000/pH1w1bvv_400x400.png)"
          },
          "metadata": {}
        },
        {
          "output_type": "display_data",
          "data": {
            "text/plain": [
              "<IPython.core.display.Markdown object>"
            ],
            "text/markdown": "**BBox Centerpoint to Center of Gravity Distance:** 0.0071"
          },
          "metadata": {}
        }
      ]
    },
    {
      "cell_type": "markdown",
      "source": [
        "# Unit Test for Onshape "
      ],
      "metadata": {
        "id": "tmQi1VBkuSRa"
      }
    },
    {
      "cell_type": "code",
      "source": [
        "import unittest\n",
        "import json\n",
        "import math\n",
        "\n",
        "maxWeight = 15\n",
        "maxBBocCenterCoGDistance = 0.05\n",
        "\n",
        "did = '62133c27fba736a62fced394'\n",
        "wid = 'a68f6e8a29cc1bf010fa71d5'\n",
        "eid = '0124d5a6da75c7ab8de75c57'\n",
        "\n",
        "class TestOnshapeDesign(unittest.TestCase):\n",
        "    def setUp( self ):\n",
        "        # get boundigbox centerpoint first\n",
        "        fixed_url = '/api/v4/assemblies/d/did/w/wid/e/eid/boundingboxes'\n",
        "        method = 'GET'\n",
        "        params = {\n",
        "            \"includeHidden\": False,\n",
        "            \"includeSketches\": False\n",
        "        }\n",
        "        headers = {'Accept': 'application/vnd.onshape.v1+json; charset=UTF-8;qs=0.1',\n",
        "                  'Content-Type': 'application/json'}\n",
        "\n",
        "        fixed_url = fixed_url.replace('did', did)\n",
        "        fixed_url = fixed_url.replace('wid', wid)\n",
        "        fixed_url = fixed_url.replace('eid', eid)\n",
        "        response = client.api_client.request(method, url=base + fixed_url, query_params=params, headers=headers, body={})\n",
        "        global bbox\n",
        "        bbox = json.loads(response.data)\n",
        "        # get center of gravity next\n",
        "        fixed_url = '/api/v4/assemblies/d/did/w/wid/e/eid/massproperties'\n",
        "        params = {}\n",
        "        fixed_url = fixed_url.replace('did', did)\n",
        "        fixed_url = fixed_url.replace('wid', wid)\n",
        "        fixed_url = fixed_url.replace('eid', eid)\n",
        "\n",
        "        response = client.api_client.request(method, url=base + fixed_url, query_params=params, headers=headers, body={})\n",
        "        global massprops\n",
        "        massprops = json.loads(response.data)\n",
        "\n",
        "\n",
        "    def test_weight(self):\n",
        "        self.assertTrue( massprops[\"mass\"][0]<maxWeight, \"actual weight {:.2f} kg is not lower than max weight {:.2f} kg\".format(massprops[\"mass\"][0], maxWeight) )\n",
        "\n",
        "    def test_balance(self):\n",
        "        centerpoint = [\n",
        "            (bbox[\"lowX\"]+bbox[\"highX\"])/2, \n",
        "            (bbox[\"lowY\"]+bbox[\"highY\"])/2, \n",
        "            (bbox[\"lowZ\"]+bbox[\"highZ\"])/2\n",
        "        ]\n",
        "        pointDistance = math.sqrt( (centerpoint[0]-massprops[\"centroid\"][0])**2 + \n",
        "                           (centerpoint[1]-massprops[\"centroid\"][1])**2 + \n",
        "                           (centerpoint[2]-massprops[\"centroid\"][2])**2\n",
        "                          )\n",
        "        self.assertTrue( pointDistance < maxBBocCenterCoGDistance , \"The distance of the bounding box center and the center of gravity is {:.4f} m which is larger than the allowed maximum {:.4f} m\".format(pointDistance, maxBBocCenterCoGDistance) )\n"
      ],
      "metadata": {
        "id": "DIrIuRVkuWj6"
      },
      "execution_count": null,
      "outputs": []
    },
    {
      "cell_type": "markdown",
      "source": [
        "# Test Runner"
      ],
      "metadata": {
        "id": "e2yibou35P0n"
      }
    },
    {
      "cell_type": "code",
      "source": [
        "import unittest\n",
        "\n",
        "if __name__ == \"__main__\":\n",
        "   #unittest.main()\n",
        "   unittest.main(argv=['first-arg-is-ignored'], exit=False)"
      ],
      "metadata": {
        "colab": {
          "base_uri": "https://localhost:8080/"
        },
        "id": "0T4T_hgP5R9O",
        "outputId": "f0a034be-180f-4709-b373-8d3133c02b5a"
      },
      "execution_count": null,
      "outputs": [
        {
          "output_type": "stream",
          "name": "stderr",
          "text": [
            "..\n",
            "----------------------------------------------------------------------\n",
            "Ran 2 tests in 37.446s\n",
            "\n",
            "OK\n"
          ]
        }
      ]
    }
  ]
}